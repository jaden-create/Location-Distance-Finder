{
 "cells": [
  {
   "cell_type": "code",
   "execution_count": 1,
   "id": "3b545355-8f5d-4855-9ebd-5947d5e17bd7",
   "metadata": {},
   "outputs": [
    {
     "name": "stdout",
     "output_type": "stream",
     "text": [
      "Collecting geopy\n",
      "  Downloading geopy-2.2.0-py3-none-any.whl (118 kB)\n",
      "\u001b[K     |████████████████████████████████| 118 kB 2.3 MB/s eta 0:00:01\n",
      "\u001b[?25hCollecting geographiclib<2,>=1.49\n",
      "  Downloading geographiclib-1.52-py3-none-any.whl (38 kB)\n",
      "Installing collected packages: geographiclib, geopy\n",
      "Successfully installed geographiclib-1.52 geopy-2.2.0\n",
      "Note: you may need to restart the kernel to use updated packages.\n"
     ]
    }
   ],
   "source": [
    "pip install geopy"
   ]
  },
  {
   "cell_type": "code",
   "execution_count": 61,
   "id": "8ee4bade-2db0-4274-9917-e2322da74694",
   "metadata": {},
   "outputs": [
    {
     "name": "stdout",
     "output_type": "stream",
     "text": [
      "Hi, I will find the distance between two locations for you in Kilometers\n"
     ]
    },
    {
     "name": "stdin",
     "output_type": "stream",
     "text": [
      "Please enter 'm' for Miles or 'km' for Kilometers m\n",
      "please enter your first location: Chicage\n"
     ]
    },
    {
     "name": "stdout",
     "output_type": "stream",
     "text": [
      "You did not enter a valid location, please try again :)\n"
     ]
    },
    {
     "name": "stdin",
     "output_type": "stream",
     "text": [
      "please enter your first location: Chicago\n",
      "please enter your second location: London, England\n"
     ]
    },
    {
     "name": "stdout",
     "output_type": "stream",
     "text": [
      "3958.4633 Miles\n"
     ]
    }
   ],
   "source": [
    "from geopy import Nominatim\n",
    "from geopy.distance import geodesic\n",
    "geolocator = Nominatim(user_agent = \"Your@email.com\")\n",
    "print(\"Hi, I will find the distance between two locations for you in Kilometers\")\n",
    "while True:\n",
    "    unit = input(\"Please enter 'm' for Miles or 'km' for Kilometers\").lower()\n",
    "    if unit == 'm' or unit == 'km':\n",
    "        break\n",
    "    else:\n",
    "        print(\"Please follow the instructions and choose a unit of measurment\")\n",
    "while True:\n",
    "    location1 = input(\"please enter your first location:\")\n",
    "    if geolocator.geocode(location1) is None:\n",
    "        print(\"You did not enter a valid location, please try again :)\")\n",
    "    else:\n",
    "        l1 = (geolocator.geocode(location1).latitude,geolocator.geocode(location1).longitude)\n",
    "        break\n",
    "while True:\n",
    "    location2 = input(\"please enter your second location:\")\n",
    "    if geolocator.geocode(location2) is None:\n",
    "        print(\"You did not enter a valid location, please try again :)\")\n",
    "    else:\n",
    "        l2 = (geolocator.geocode(location2).latitude,geolocator.geocode(location2).longitude)\n",
    "        break\n",
    "if unit =='m':\n",
    "    print(str(geodesic(l1,l2).miles)[:9]+\" Miles\")\n",
    "else:\n",
    "    print(str(geodesic(l1,l2).km)[:9]+\" Kilometers\")"
   ]
  },
  {
   "cell_type": "code",
   "execution_count": null,
   "id": "b7eb5d8c-46a2-4bd7-b14f-edcb7ef541f5",
   "metadata": {},
   "outputs": [],
   "source": []
  }
 ],
 "metadata": {
  "kernelspec": {
   "display_name": "Python 3",
   "language": "python",
   "name": "python3"
  },
  "language_info": {
   "codemirror_mode": {
    "name": "ipython",
    "version": 3
   },
   "file_extension": ".py",
   "mimetype": "text/x-python",
   "name": "python",
   "nbconvert_exporter": "python",
   "pygments_lexer": "ipython3",
   "version": "3.8.8"
  }
 },
 "nbformat": 4,
 "nbformat_minor": 5
}
